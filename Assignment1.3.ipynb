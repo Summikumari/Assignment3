{
 "cells": [
  {
   "cell_type": "code",
   "execution_count": 1,
   "id": "a63fad23",
   "metadata": {},
   "outputs": [
    {
     "name": "stdout",
     "output_type": "stream",
     "text": [
      "Enter a number: 153\n",
      "153 is an Armstrong number\n"
     ]
    }
   ],
   "source": [
    "#Python Program to Check Armstrong Number (for 3 digits)\n",
    "num = int(input(\"Enter a number: \"))  \n",
    "sum = 0  \n",
    "temp = num  \n",
    "  \n",
    "while temp > 0:  \n",
    "   digit = temp % 10  \n",
    "   sum += digit ** 3  \n",
    "   temp //= 10  \n",
    "  \n",
    "if num == sum:  \n",
    "   print(num,\"is an Armstrong number\")  \n",
    "else:  \n",
    "   print(num,\"is not an Armstrong number\")#Python Program to Find the Sum of Natural Numbers"
   ]
  },
  {
   "cell_type": "code",
   "execution_count": 4,
   "id": "cf834dc5",
   "metadata": {},
   "outputs": [
    {
     "name": "stdout",
     "output_type": "stream",
     "text": [
      "Enter the lowest  number : 1\n",
      "Enter the highest number : 100\n",
      "1\n"
     ]
    }
   ],
   "source": [
    "#Python Program to Find Armstrong Number in an Interval\n",
    "\n",
    "low_num  = int(input(\"Enter the lowest  number : \"))\n",
    "high_num = int(input(\"Enter the highest number : \"))\n",
    "for i in range(low_num,high_num+1):\n",
    "    sum = 0\n",
    "    temp = i\n",
    "    while temp>0:\n",
    "        digit = temp%10\n",
    "        sum = sum+digit**3\n",
    "        temp = temp//10   \n",
    "    if i==sum:\n",
    "        print(str(sum))"
   ]
  },
  {
   "cell_type": "code",
   "execution_count": 6,
   "id": "88fc455a",
   "metadata": {},
   "outputs": [
    {
     "name": "stdout",
     "output_type": "stream",
     "text": [
      "Enter a number : 121\n",
      "10\n"
     ]
    }
   ],
   "source": [
    "# find the sum of the cube of each digit\n",
    "num = int(input(\"Enter a number : \"))\n",
    "sum = 0\n",
    "while num>0:\n",
    "    digit = num%10\n",
    "    sum = sum+digit**3\n",
    "    num = num//10\n",
    "print(str(sum))"
   ]
  },
  {
   "cell_type": "code",
   "execution_count": null,
   "id": "24e00146",
   "metadata": {},
   "outputs": [],
   "source": [
    "#Python Program to Find the Sum of Natural Numbers\n",
    "#Python Program to Find the Sum of Natural Numbers"
   ]
  }
 ],
 "metadata": {
  "kernelspec": {
   "display_name": "Python 3",
   "language": "python",
   "name": "python3"
  },
  "language_info": {
   "codemirror_mode": {
    "name": "ipython",
    "version": 3
   },
   "file_extension": ".py",
   "mimetype": "text/x-python",
   "name": "python",
   "nbconvert_exporter": "python",
   "pygments_lexer": "ipython3",
   "version": "3.8.8"
  }
 },
 "nbformat": 4,
 "nbformat_minor": 5
}
